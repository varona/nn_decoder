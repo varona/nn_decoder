{
 "cells": [
  {
   "cell_type": "markdown",
   "metadata": {},
   "source": [
    "# Training a ResNet neural-network decoder\n",
    "\n",
    "We will now train a ResNet50 model to decode a code of length 5 subject to independent bit- and phase-flip noise ('uncorrelated') near the threshold error rate."
   ]
  },
  {
   "cell_type": "code",
   "execution_count": 1,
   "metadata": {},
   "outputs": [],
   "source": [
    "SRC_PATH = '../Python' # path to src\n",
    "\n",
    "import os\n",
    "import sys\n",
    "from hexagonal_lattice import HexagonalLattice\n",
    "\n",
    "sys.path.append(os.path.abspath(SRC_PATH))\n",
    "lattice = HexagonalLattice(5,5) # Code on a lattice of length 5"
   ]
  },
  {
   "cell_type": "markdown",
   "metadata": {},
   "source": [
    "## Data generation\n",
    "First, we will need to create the pattern data and the training data if they were not created before (this may take a few hours depending on your computer and the dataset size, see README files and other notebooks for more information). Pattern data can be obtained by:"
   ]
  },
  {
   "cell_type": "code",
   "execution_count": 2,
   "metadata": {},
   "outputs": [
    {
     "name": "stdout",
     "output_type": "stream",
     "text": [
      "Pattern data ready.\n"
     ]
    }
   ],
   "source": [
    "import compute_pattern as cp\n",
    "cp.compute_all_patterns(max_length=13)"
   ]
  },
  {
   "cell_type": "markdown",
   "metadata": {},
   "source": [
    "The model will be initially trained on a small dataset with low error rate and then trained with an error rate near the threshold value. `main_data_gen` generates training data and stores it in files, each containing $10^5$ examples. Below we generate 100 files with error rate $p_0=0.023$, corresponding to the initial training dataset, 1000 files for the main dataset with $p_0=0.048$ and 2 files for validation."
   ]
  },
  {
   "cell_type": "code",
   "execution_count": 3,
   "metadata": {},
   "outputs": [
    {
     "name": "stdout",
     "output_type": "stream",
     "text": [
      "Computing size=5, p_error=0.023, noise_type=uncorrelated ...\n",
      "Done!\n",
      "Computing size=5, p_error=0.048, noise_type=uncorrelated ...\n",
      "Done!\n",
      "Computing size=5, p_error=0.048, noise_type=uncorrelated ...\n",
      "Done!\n"
     ]
    }
   ],
   "source": [
    "DATA_PATH = '../training_data'\n",
    "\n",
    "from data import main_data_gen\n",
    "# Initial training data\n",
    "main_data_gen(lattice, p_error=0.023, noise_type='uncorrelated', \n",
    "              start=0, end=50, data_type='initial',\n",
    "              path=DATA_PATH)\n",
    "# Main training data\n",
    "main_data_gen(lattice, p_error=0.048, noise_type='uncorrelated', \n",
    "              start=0, end=1000, data_type='data',\n",
    "              path=DATA_PATH)\n",
    "# Validation data\n",
    "main_data_gen(lattice, p_error=0.048, noise_type='uncorrelated', \n",
    "              start=0, end=2, data_type='validation',\n",
    "              path=DATA_PATH)           "
   ]
  },
  {
   "cell_type": "markdown",
   "metadata": {},
   "source": [
    "## Model training\n",
    "Once we have the data, we can train the model. We use a ResNet model with some particularities (no downsampling, periodic padding...), making it more suitable for the characteristics of our data."
   ]
  },
  {
   "cell_type": "code",
   "execution_count": 7,
   "metadata": {},
   "outputs": [],
   "source": [
    "import numpy as np\n",
    "from resnet import resnet\n",
    "from tensorflow.keras.optimizers import Adam\n",
    "\n",
    "input_shape = (lattice.N_row*2, lattice.N_col*2, np.int64(1))\n",
    "model = resnet(input_shape, depth=50, num_classes=16)\n",
    "\n",
    "model.compile(loss='sparse_categorical_crossentropy', \n",
    "              optimizer=Adam(), metrics=['accuracy'])"
   ]
  },
  {
   "cell_type": "markdown",
   "metadata": {},
   "source": [
    "The dataset may not fit into memory, thus we use a Sequence class to load data on demand."
   ]
  },
  {
   "cell_type": "code",
   "execution_count": 12,
   "metadata": {},
   "outputs": [],
   "source": [
    "from models_utilities import DataLoader, data2image, EarlyStopping\n",
    "from functools import partial\n",
    "\n",
    "data_modifyer = partial(\n",
    "    data2image, lattice_shape=(lattice.N_row, lattice.N_col))\n",
    "\n",
    "initial = DataLoader((5,5), 'uncorrelated', batch_size=1000, \n",
    "    p_error=0.023, path=DATA_PATH, data_modifyer=data_modifyer, \n",
    "    data_type='initial')\n",
    "\n",
    "training = DataLoader((5,5), 'uncorrelated', batch_size=1000,\n",
    "    p_error=0.048, path=DATA_PATH, data_modifyer=data_modifyer, \n",
    "    data_type='data')\n",
    "\n",
    "validation = DataLoader((5,5), 'uncorrelated', batch_size=1000, \n",
    "    p_error=0.048, path=DATA_PATH, data_modifyer=data_modifyer, \n",
    "    data_type='validation')"
   ]
  },
  {
   "cell_type": "markdown",
   "metadata": {},
   "source": [
    "To avoid overfitting, the data is only fed once during training. Thus, we produce enough data to train the model on a single epoch. We define a callback to reduce learning rate when accuracy has stopped improving, accuracy is checked every 2000 steps. Likewise, another callback stops the training when the accuracy does not improve for a certain number of periods. Finally we also periodically compute val_acc and save the model every time val_acc improves."
   ]
  },
  {
   "cell_type": "code",
   "execution_count": 13,
   "metadata": {
    "scrolled": true
   },
   "outputs": [
    {
     "name": "stdout",
     "output_type": "stream",
     "text": [
      "5000/5000 [==============================] - 290s 58ms/step - loss: 0.2582 - acc: 0.9235\n",
      "  2000/100000 [..............................] - ETA: 1:34:39 - loss: 0.8717 - acc: 0.6709\n",
      "val_loss: 0.8553, val_acc: 0.6795, batch: 2000. Saved.\n",
      "\n",
      "  4000/100000 [>.............................] - ETA: 1:35:40 - loss: 0.8491 - acc: 0.6873\n",
      "val_loss: 0.8236, val_acc: 0.6893, batch: 4000. Saved.\n",
      "\n",
      "  6000/100000 [>.............................] - ETA: 1:33:40 - loss: 0.8346 - acc: 0.6957\n",
      "val_loss: 0.8136, val_acc: 0.6951, batch: 6000. Saved.\n",
      "\n",
      "  8000/100000 [=>............................] - ETA: 1:31:40 - loss: 0.8240 - acc: 0.7008\n",
      "val_loss: 0.7929, val_acc: 0.7006, batch: 8000. Saved.\n",
      "\n",
      " 10000/100000 [==>...........................] - ETA: 1:29:41 - loss: 0.8157 - acc: 0.7043\n",
      "val_loss: 0.7866, val_acc: 0.7037, batch: 10000. Saved.\n",
      "\n",
      " 12000/100000 [==>...........................] - ETA: 1:27:42 - loss: 0.8090 - acc: 0.7071\n",
      "val_loss: 0.7779, val_acc: 0.7061, batch: 12000. Saved.\n",
      "\n",
      " 14000/100000 [===>..........................] - ETA: 1:25:42 - loss: 0.8032 - acc: 0.7094\n",
      "val_loss: 0.7766, val_acc: 0.7081, batch: 14000. Saved.\n",
      "\n",
      " 16000/100000 [===>..........................] - ETA: 1:23:42 - loss: 0.7983 - acc: 0.7107\n",
      "val_loss: 0.7692, val_acc: 0.7107, batch: 16000. Saved.\n",
      "\n",
      " 18000/100000 [====>.........................] - ETA: 1:21:42 - loss: 0.7940 - acc: 0.7127\n",
      "val_loss: 0.7666, val_acc: 0.7096, batch: 18000.\n",
      "\n",
      " 20000/100000 [=====>........................] - ETA: 1:19:42 - loss: 0.7902 - acc: 0.7133\n",
      "val_loss: 0.7591, val_acc: 0.7132, batch: 20000. Saved.\n",
      "\n",
      " 22000/100000 [=====>........................] - ETA: 1:17:42 - loss: 0.7869 - acc: 0.7143\n",
      "val_loss: 0.7606, val_acc: 0.7141, batch: 22000. Saved.\n",
      "\n",
      " 24000/100000 [======>.......................] - ETA: 1:15:43 - loss: 0.7840 - acc: 0.7157\n",
      "val_loss: 0.7583, val_acc: 0.7126, batch: 24000.\n",
      "\n",
      " 26000/100000 [======>.......................] - ETA: 1:13:43 - loss: 0.7813 - acc: 0.7157\n",
      "val_loss: 0.7533, val_acc: 0.7142, batch: 26000. Saved.\n",
      "\n",
      " 28000/100000 [=======>......................] - ETA: 1:11:44 - loss: 0.7788 - acc: 0.7166\n",
      "val_loss: 0.7593, val_acc: 0.7132, batch: 28000.\n",
      "\n",
      " 30000/100000 [========>.....................] - ETA: 1:09:44 - loss: 0.7765 - acc: 0.7174\n",
      "val_loss: 0.7500, val_acc: 0.7159, batch: 30000. Saved.\n",
      "\n",
      " 32000/100000 [========>.....................] - ETA: 1:07:44 - loss: 0.7744 - acc: 0.7181\n",
      "val_loss: 0.7490, val_acc: 0.7164, batch: 32000. Saved.\n",
      "\n",
      " 34000/100000 [=========>....................] - ETA: 1:05:45 - loss: 0.7726 - acc: 0.7179\n",
      "val_loss: 0.7499, val_acc: 0.7158, batch: 34000.\n",
      "\n",
      " 36000/100000 [=========>....................] - ETA: 1:03:45 - loss: 0.7708 - acc: 0.7183\n",
      "Epoch 36001: ReduceLROnPlateau reducing learning rate to 0.00031622778103685084.\n",
      "\n",
      "val_loss: 0.7453, val_acc: 0.7164, batch: 36000.\n",
      "\n",
      " 38000/100000 [==========>...................] - ETA: 1:01:46 - loss: 0.7683 - acc: 0.7240\n",
      "val_loss: 0.7241, val_acc: 0.7233, batch: 38000. Saved.\n",
      "\n",
      " 40000/100000 [===========>..................] - ETA: 59:47 - loss: 0.7659 - acc: 0.7254\n",
      "val_loss: 0.7221, val_acc: 0.7242, batch: 40000. Saved.\n",
      "\n",
      " 42000/100000 [===========>..................] - ETA: 57:47 - loss: 0.7637 - acc: 0.7246\n",
      "val_loss: 0.7201, val_acc: 0.7245, batch: 42000. Saved.\n",
      "\n",
      " 44000/100000 [============>.................] - ETA: 55:48 - loss: 0.7616 - acc: 0.7255\n",
      "Epoch 44001: ReduceLROnPlateau reducing learning rate to 0.00010000000639606199.\n",
      "\n",
      "val_loss: 0.7193, val_acc: 0.7247, batch: 44000. Saved.\n",
      "\n",
      " 46000/100000 [============>.................] - ETA: 53:49 - loss: 0.7594 - acc: 0.7269\n",
      "val_loss: 0.7114, val_acc: 0.7273, batch: 46000. Saved.\n",
      "\n",
      " 48000/100000 [=============>................] - ETA: 51:49 - loss: 0.7573 - acc: 0.7282\n",
      "val_loss: 0.7105, val_acc: 0.7275, batch: 48000. Saved.\n",
      "\n",
      " 50000/100000 [==============>...............] - ETA: 49:50 - loss: 0.7553 - acc: 0.7286\n",
      "val_loss: 0.7090, val_acc: 0.7274, batch: 50000.\n",
      "\n",
      " 52000/100000 [==============>...............] - ETA: 47:50 - loss: 0.7534 - acc: 0.7287\n",
      "val_loss: 0.7081, val_acc: 0.7274, batch: 52000.\n",
      "\n",
      " 54000/100000 [===============>..............] - ETA: 45:51 - loss: 0.7516 - acc: 0.7283\n",
      "Epoch 54001: ReduceLROnPlateau reducing learning rate to 3.1622778103685084e-05.\n",
      "\n",
      "val_loss: 0.7074, val_acc: 0.7282, batch: 54000. Saved.\n",
      "\n",
      " 56000/100000 [===============>..............] - ETA: 43:51 - loss: 0.7500 - acc: 0.7285\n",
      "val_loss: 0.7058, val_acc: 0.7282, batch: 56000.\n",
      "\n",
      " 58000/100000 [================>.............] - ETA: 41:51 - loss: 0.7484 - acc: 0.7292\n",
      "val_loss: 0.7053, val_acc: 0.7285, batch: 58000. Saved.\n",
      "\n",
      " 60000/100000 [=================>............] - ETA: 39:52 - loss: 0.7469 - acc: 0.7295\n",
      "val_loss: 0.7048, val_acc: 0.7287, batch: 60000. Saved.\n",
      "\n",
      " 62000/100000 [=================>............] - ETA: 37:52 - loss: 0.7455 - acc: 0.7294\n",
      "Epoch 62001: ReduceLROnPlateau reducing learning rate to 1.0000000409520217e-05.\n",
      "\n",
      "val_loss: 0.7046, val_acc: 0.7287, batch: 62000.\n",
      "\n",
      " 64000/100000 [==================>...........] - ETA: 35:52 - loss: 0.7441 - acc: 0.7294\n",
      "val_loss: 0.7041, val_acc: 0.7287, batch: 64000.\n",
      "\n",
      " 66000/100000 [==================>...........] - ETA: 33:53 - loss: 0.7429 - acc: 0.7293\n",
      "Epoch 66001: ReduceLROnPlateau reducing learning rate to 3.1622778678900043e-06.\n",
      "\n",
      "val_loss: 0.7040, val_acc: 0.7290, batch: 66000. Saved.\n",
      "\n",
      " 68000/100000 [===================>..........] - ETA: 31:53 - loss: 0.7417 - acc: 0.7294\n",
      "val_loss: 0.7038, val_acc: 0.7288, batch: 68000.\n",
      "\n",
      " 70000/100000 [====================>.........] - ETA: 29:54 - loss: 0.7406 - acc: 0.7299\n",
      "val_loss: 0.7037, val_acc: 0.7290, batch: 70000. Saved.\n",
      "\n",
      " 72000/100000 [====================>.........] - ETA: 27:54 - loss: 0.7395 - acc: 0.7296\n",
      "val_loss: 0.7037, val_acc: 0.7289, batch: 72000.\n",
      "\n",
      " 74000/100000 [=====================>........] - ETA: 25:54 - loss: 0.7385 - acc: 0.7296\n",
      "Epoch 74001: ReduceLROnPlateau reducing learning rate to 1.0000000553323957e-06.\n",
      "\n",
      "val_loss: 0.7037, val_acc: 0.7292, batch: 74000. Saved.\n",
      "\n",
      " 76000/100000 [=====================>........] - ETA: 23:55 - loss: 0.7375 - acc: 0.7302\n",
      "val_loss: 0.7036, val_acc: 0.7289, batch: 76000.\n",
      "\n",
      " 78000/100000 [======================>.......] - ETA: 21:55 - loss: 0.7366 - acc: 0.7299\n",
      "Epoch 78001: ReduceLROnPlateau reducing learning rate to 3.162278011693743e-07.\n",
      "\n",
      "val_loss: 0.7036, val_acc: 0.7290, batch: 78000.\n",
      "\n",
      " 80000/100000 [=======================>......] - ETA: 19:56 - loss: 0.7357 - acc: 0.7300\n",
      "val_loss: 0.7036, val_acc: 0.7289, batch: 80000.\n",
      "\n",
      " 82000/100000 [=======================>......] - ETA: 17:56 - loss: 0.7349 - acc: 0.7299\n",
      "Epoch 82001: ReduceLROnPlateau reducing learning rate to 1.0000001452097325e-07.\n",
      "\n",
      "val_loss: 0.7036, val_acc: 0.7289, batch: 82000.\n",
      "\n",
      " 84000/100000 [========================>.....] - ETA: 15:56 - loss: 0.7341 - acc: 0.7298\n",
      "val_loss: 0.7036, val_acc: 0.7288, batch: 84000.\n",
      "\n",
      " 86000/100000 [========================>.....] - ETA: 13:57 - loss: 0.7333 - acc: 0.7300Early stopping: val_acc did not improve. Before: 0.7302, afer: 0.7300, diff = -0.0002.\n",
      "\n",
      "\n",
      "Epoch 86001: ReduceLROnPlateau reducing learning rate to 1e-07.\n",
      "\n",
      "val_loss: 0.7036, val_acc: 0.7288, batch: 86000.\n",
      "\n",
      " 88000/100000 [=========================>....] - ETA: 11:57 - loss: 0.7326 - acc: 0.7295Early stopping: val_acc did not improve. Before: 0.7302, afer: 0.7295, diff = -0.0007.\n",
      "\n",
      "\n",
      "val_loss: 0.7036, val_acc: 0.7288, batch: 88000.\n",
      "\n",
      " 90000/100000 [==========================>...] - ETA: 9:58 - loss: 0.7320 - acc: 0.7297Early stopping: val_acc did not improve. Before: 0.7302, afer: 0.7297, diff = -0.0005.\n",
      "\n",
      "\n",
      "Epoch 90001: ReduceLROnPlateau reducing learning rate to 1e-07.\n",
      "\n",
      "val_loss: 0.7036, val_acc: 0.7288, batch: 90000.\n",
      "\n",
      " 92000/100000 [==========================>...] - ETA: 7:58 - loss: 0.7313 - acc: 0.7297Early stopping: val_acc did not improve. Before: 0.7302, afer: 0.7297, diff = -0.0005.\n",
      "\n",
      "\n",
      "val_loss: 0.7036, val_acc: 0.7289, batch: 92000.\n",
      "\n",
      " 94000/100000 [===========================>..] - ETA: 5:58 - loss: 0.7307 - acc: 0.7297Early stopping: val_acc did not improve. Before: 0.7302, afer: 0.7297, diff = -0.0005.\n",
      "\n",
      "\n",
      "Epoch 94001: ReduceLROnPlateau reducing learning rate to 1e-07.\n",
      "\n",
      "val_loss: 0.7036, val_acc: 0.7288, batch: 94000.\n",
      "\n",
      " 96000/100000 [===========================>..] - ETA: 3:59 - loss: 0.7301 - acc: 0.7295Early stopping: val_acc did not improve. Before: 0.7302, afer: 0.7295, diff = -0.0007.\n",
      "\n",
      "\n",
      "val_loss: 0.7036, val_acc: 0.7288, batch: 96000.\n",
      "\n",
      " 98000/100000 [============================>.] - ETA: 1:59 - loss: 0.7296 - acc: 0.7294Early stopping: val_acc did not improve. Before: 0.7302, afer: 0.7294, diff = -0.0008.\n",
      "\n",
      "\n",
      "Epoch 98001: ReduceLROnPlateau reducing learning rate to 1e-07.\n",
      "\n",
      "val_loss: 0.7036, val_acc: 0.7288, batch: 98000.\n",
      "\n",
      "100000/100000 [==============================] - 5985s 60ms/step - loss: 0.7290 - acc: 0.7295 - val_loss: 0.7036 - val_acc: 0.7289\n"
     ]
    },
    {
     "data": {
      "text/plain": [
       "<tensorflow.python.keras.callbacks.History at 0x7fa62c35c860>"
      ]
     },
     "execution_count": 13,
     "metadata": {},
     "output_type": "execute_result"
    }
   ],
   "source": [
    "from models_utilities import ReduceLROnPlateau, EarlyStopping, CustomSaver\n",
    "\n",
    "early_stopper = EarlyStopping(monitor='acc',\n",
    "    batch_period=2000, patience=5)\n",
    "lr_reducer = ReduceLROnPlateau(monitor='acc', factor=np.sqrt(0.1), \n",
    "    patience=2, min_delta=4e-4, min_lr=1e-7, batch_period=2000)\n",
    "custom_saver = CustomSaver(validation, '5_5_uncorr_resnet', \n",
    "    batch_period=2000)\n",
    "callbacks = [lr_reducer, custom_saver, early_stopper]\n",
    "\n",
    "model.fit_generator(initial, epochs=1, workers=4,\n",
    "    use_multiprocessing=True, shuffle=True) \n",
    "\n",
    "h = model.fit_generator(training, epochs=1, \n",
    "    callbacks=callbacks, validation_data=validation, workers=4, \n",
    "    use_multiprocessing=True, shuffle=False)"
   ]
  },
  {
   "cell_type": "markdown",
   "metadata": {},
   "source": [
    "The evolution of the validation loss and accuracy is recorded in `custom_saver.history`."
   ]
  },
  {
   "cell_type": "code",
   "execution_count": 14,
   "metadata": {},
   "outputs": [
    {
     "data": {
      "text/plain": [
       "Text(0, 0.5, 'val_loss')"
      ]
     },
     "execution_count": 14,
     "metadata": {},
     "output_type": "execute_result"
    },
    {
     "data": {
      "image/png": "[encoded data removed]",
      "text/plain": [
       "<Figure size 432x288 with 2 Axes>"
      ]
     },
     "metadata": {
      "needs_background": "light"
     },
     "output_type": "display_data"
    }
   ],
   "source": [
    "from matplotlib import pyplot as plt\n",
    "x = custom_saver.history['batch']\n",
    "y1 = custom_saver.history['val_acc']\n",
    "y2 = custom_saver.history['val_loss']\n",
    "\n",
    "fig, ax1 = plt.subplots()\n",
    "\n",
    "ax2 = ax1.twinx()\n",
    "ax1.plot(x, y1, 'g-')\n",
    "ax2.plot(x, y2, 'b-')\n",
    "\n",
    "ax1.set_xlabel('steps')\n",
    "ax1.set_ylabel('val_acc', color='g')\n",
    "ax2.set_ylabel('val_loss', color='b')"
   ]
  }
 ],
 "metadata": {
  "kernelspec": {
   "display_name": "Python 3",
   "language": "python",
   "name": "python3"
  },
  "language_info": {
   "codemirror_mode": {
    "name": "ipython",
    "version": 3
   },
   "file_extension": ".py",
   "mimetype": "text/x-python",
   "name": "python",
   "nbconvert_exporter": "python",
   "pygments_lexer": "ipython3",
   "version": "3.6.10"
  }
 },
 "nbformat": 4,
 "nbformat_minor": 2
}
