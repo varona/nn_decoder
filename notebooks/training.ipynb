{
 "cells": [
  {
   "cell_type": "markdown",
   "metadata": {},
   "source": [
    "# Training a ResNet neural-network decoder\n",
    "\n",
    "We will now train a ResNet50 model to decode a code of length 5 subject to independent bit- and phase-flip noise ('uncorrelated') near the threshold error rate."
   ]
  },
  {
   "cell_type": "code",
   "execution_count": 1,
   "metadata": {},
   "outputs": [],
   "source": [
    "SRC_PATH = '../src' # path to src\n",
    "\n",
    "import os\n",
    "import sys\n",
    "from hexagonal_lattice import HexagonalLattice\n",
    "\n",
    "sys.path.append(os.path.abspath(SRC_PATH))\n",
    "lattice = HexagonalLattice(5,5) # Code on a lattice of length 5"
   ]
  },
  {
   "cell_type": "markdown",
   "metadata": {},
   "source": [
    "## Data generation\n",
    "First, we will need to create the pattern data and the training data if they were not created before (this may take a few hours depending on your computer and the dataset size, see README files and other notebooks for more information). Pattern data can be obtained by:"
   ]
  },
  {
   "cell_type": "code",
   "execution_count": 2,
   "metadata": {},
   "outputs": [
    {
     "name": "stdout",
     "output_type": "stream",
     "text": [
      "Pattern data ready.\n"
     ]
    }
   ],
   "source": [
    "import compute_pattern as cp\n",
    "cp.compute_all_patterns(max_length=14)"
   ]
  },
  {
   "cell_type": "markdown",
   "metadata": {},
   "source": [
    "The model will be initially trained on a small dataset with low error rate and then trained with an error rate near the threshold value. `main_data_gen` generates training data and stores it in files, each containing $10^5$ examples. Below we generate 50 files with error rate $p_0=0.023$, corresponding to the initial training dataset, 1000 files for the main dataset with $p_0=0.048$ and 2 files for validation."
   ]
  },
  {
   "cell_type": "code",
   "execution_count": 3,
   "metadata": {},
   "outputs": [
    {
     "name": "stdout",
     "output_type": "stream",
     "text": [
      "Computing size=5, p_error=0.023, noise_type=uncorrelated ...\n",
      "Done!\n",
      "Computing size=5, p_error=0.048, noise_type=uncorrelated ...\n",
      "Done!\n",
      "Computing size=5, p_error=0.048, noise_type=uncorrelated ...\n",
      "Done!\n"
     ]
    }
   ],
   "source": [
    "DATA_PATH = '../training_data' # path to training data\n",
    "\n",
    "from data import main_data_gen\n",
    "# Initial training data\n",
    "main_data_gen(lattice, p_error=0.023, noise_type='uncorrelated', \n",
    "              start=0, end=50, data_type='initial',\n",
    "              path=DATA_PATH)\n",
    "# Main training data\n",
    "main_data_gen(lattice, p_error=0.048, noise_type='uncorrelated', \n",
    "              start=0, end=1000, data_type='data',\n",
    "              path=DATA_PATH)\n",
    "# Validation data\n",
    "main_data_gen(lattice, p_error=0.048, noise_type='uncorrelated', \n",
    "              start=0, end=2, data_type='validation',\n",
    "              path=DATA_PATH)           "
   ]
  },
  {
   "cell_type": "markdown",
   "metadata": {},
   "source": [
    "## Model training\n",
    "Once we have the data, we can train the model. We use a ResNet model with some particularities (no downsampling, periodic padding...), making it more suitable for the characteristics of our data."
   ]
  },
  {
   "cell_type": "code",
   "execution_count": 5,
   "metadata": {},
   "outputs": [],
   "source": [
    "import numpy as np\n",
    "from resnet import resnet\n",
    "from tensorflow.keras.optimizers import Adam\n",
    "\n",
    "input_shape = (lattice.N_row*2, lattice.N_col*2, np.int64(1))\n",
    "model = resnet(input_shape, depth=50, num_classes=16)\n",
    "\n",
    "model.compile(loss='sparse_categorical_crossentropy', \n",
    "              optimizer=Adam(), metrics=['accuracy'])"
   ]
  },
  {
   "cell_type": "markdown",
   "metadata": {},
   "source": [
    "The dataset may not fit into memory, thus we use a Sequence class to load data on demand."
   ]
  },
  {
   "cell_type": "code",
   "execution_count": 6,
   "metadata": {},
   "outputs": [],
   "source": [
    "from models_utilities import DataLoader, data2image, EarlyStopping\n",
    "from functools import partial\n",
    "\n",
    "data_modifyer = partial(\n",
    "    data2image, lattice_shape=(lattice.N_row, lattice.N_col))\n",
    "\n",
    "initial = DataLoader((5,5), 'uncorrelated', batch_size=1000, \n",
    "    p_error=0.023, path=DATA_PATH, data_modifyer=data_modifyer, \n",
    "    data_type='initial')\n",
    "\n",
    "training = DataLoader((5,5), 'uncorrelated', batch_size=1000,\n",
    "    p_error=0.048, path=DATA_PATH, data_modifyer=data_modifyer, \n",
    "    data_type='data')\n",
    "\n",
    "validation = DataLoader((5,5), 'uncorrelated', batch_size=1000, \n",
    "    p_error=0.048, path=DATA_PATH, data_modifyer=data_modifyer, \n",
    "    data_type='validation')"
   ]
  },
  {
   "cell_type": "markdown",
   "metadata": {},
   "source": [
    "To avoid overfitting, the data is only fed once during training. Thus, we produce enough data to train the model on a single epoch. We define a callback to reduce learning rate when accuracy has stopped improving, accuracy is checked every 2000 steps. Likewise, another callback stops the training when the accuracy does not improve for a certain number of periods. Finally we also periodically compute val_acc and save the model every time val_acc improves."
   ]
  },
  {
   "cell_type": "code",
   "execution_count": 7,
   "metadata": {
    "scrolled": true
   },
   "outputs": [
    {
     "name": "stdout",
     "output_type": "stream",
     "text": [
      "5000/5000 [==============================] - 2257s 451ms/step - loss: 0.6341 - acc: 0.8828\n",
      "  2000/100000 [..............................] - ETA: 12:13:42 - loss: 1.2654 - acc: 0.6231\n",
      "val_loss: 1.0600, val_acc: 0.6920, batch: 2000. Saved.\n",
      "\n",
      "  4000/100000 [>.............................] - ETA: 12:17:20 - loss: 1.0967 - acc: 0.7150\n",
      "val_loss: 0.8898, val_acc: 0.7220, batch: 4000. Saved.\n",
      "\n",
      "  6000/100000 [>.............................] - ETA: 12:04:36 - loss: 1.0175 - acc: 0.7237\n",
      "val_loss: 0.8414, val_acc: 0.7227, batch: 6000. Saved.\n",
      "\n",
      "  8000/100000 [=>............................] - ETA: 11:50:27 - loss: 0.9665 - acc: 0.7263\n",
      "val_loss: 0.8011, val_acc: 0.7271, batch: 8000. Saved.\n",
      "\n",
      " 10000/100000 [==>...........................] - ETA: 11:35:45 - loss: 0.9283 - acc: 0.7284\n",
      "val_loss: 0.7661, val_acc: 0.7271, batch: 10000. Saved.\n",
      "\n",
      " 12000/100000 [==>...........................] - ETA: 11:20:48 - loss: 0.8988 - acc: 0.7290\n",
      "val_loss: 0.7437, val_acc: 0.7284, batch: 12000. Saved.\n",
      "\n",
      " 14000/100000 [===>..........................] - ETA: 11:05:39 - loss: 0.8749 - acc: 0.7304\n",
      "val_loss: 0.7316, val_acc: 0.7290, batch: 14000. Saved.\n",
      "\n",
      " 16000/100000 [===>..........................] - ETA: 10:50:24 - loss: 0.8557 - acc: 0.7309\n",
      "val_loss: 0.7260, val_acc: 0.7299, batch: 16000. Saved.\n",
      "\n",
      " 18000/100000 [====>.........................] - ETA: 10:35:06 - loss: 0.8402 - acc: 0.7317\n",
      "val_loss: 0.7279, val_acc: 0.7257, batch: 18000.\n",
      "\n",
      " 20000/100000 [=====>........................] - ETA: 10:19:44 - loss: 0.8278 - acc: 0.7308\n",
      "val_loss: 0.7217, val_acc: 0.7311, batch: 20000. Saved.\n",
      "\n",
      " 22000/100000 [=====>........................] - ETA: 10:04:22 - loss: 0.8173 - acc: 0.7322\n",
      "val_loss: 0.7089, val_acc: 0.7322, batch: 22000. Saved.\n",
      "\n",
      " 24000/100000 [======>.......................] - ETA: 9:49:02 - loss: 0.8081 - acc: 0.7327\n",
      "val_loss: 0.7108, val_acc: 0.7311, batch: 24000.\n",
      "\n",
      " 26000/100000 [======>.......................] - ETA: 9:33:33 - loss: 0.8003 - acc: 0.7321\n",
      "val_loss: 0.7233, val_acc: 0.7299, batch: 26000.\n",
      "\n",
      " 28000/100000 [=======>......................] - ETA: 9:18:04 - loss: 0.7934 - acc: 0.7330\n",
      "Epoch 28001: ReduceLROnPlateau reducing learning rate to 0.00031622778103685084.\n",
      "\n",
      "val_loss: 0.7065, val_acc: 0.7321, batch: 28000.\n",
      "\n",
      " 30000/100000 [========>.....................] - ETA: 9:02:36 - loss: 0.7864 - acc: 0.7370\n",
      "val_loss: 0.6880, val_acc: 0.7369, batch: 30000. Saved.\n",
      "\n",
      " 32000/100000 [========>.....................] - ETA: 8:47:07 - loss: 0.7800 - acc: 0.7373\n",
      "val_loss: 0.6869, val_acc: 0.7370, batch: 32000. Saved.\n",
      "\n",
      " 34000/100000 [=========>....................] - ETA: 8:31:38 - loss: 0.7743 - acc: 0.7372\n",
      "Epoch 34001: ReduceLROnPlateau reducing learning rate to 0.00010000000639606199.\n",
      "\n",
      "val_loss: 0.6843, val_acc: 0.7372, batch: 34000. Saved.\n",
      "\n",
      " 36000/100000 [=========>....................] - ETA: 8:16:08 - loss: 0.7690 - acc: 0.7388\n",
      "val_loss: 0.6782, val_acc: 0.7391, batch: 36000. Saved.\n",
      "\n",
      " 38000/100000 [==========>...................] - ETA: 8:00:39 - loss: 0.7640 - acc: 0.7398\n",
      "val_loss: 0.6773, val_acc: 0.7390, batch: 38000.\n",
      "\n",
      " 40000/100000 [===========>..................] - ETA: 7:45:10 - loss: 0.7596 - acc: 0.7395\n",
      "val_loss: 0.6762, val_acc: 0.7394, batch: 40000. Saved.\n",
      "\n",
      " 42000/100000 [===========>..................] - ETA: 7:29:40 - loss: 0.7556 - acc: 0.7388\n",
      "Epoch 42001: ReduceLROnPlateau reducing learning rate to 3.1622778103685084e-05.\n",
      "\n",
      "val_loss: 0.6761, val_acc: 0.7388, batch: 42000.\n",
      "\n",
      " 44000/100000 [============>.................] - ETA: 7:14:10 - loss: 0.7518 - acc: 0.7397\n",
      "val_loss: 0.6740, val_acc: 0.7394, batch: 44000. Saved.\n",
      "\n",
      " 46000/100000 [============>.................] - ETA: 6:58:40 - loss: 0.7484 - acc: 0.7396\n",
      "Epoch 46001: ReduceLROnPlateau reducing learning rate to 1.0000000409520217e-05.\n",
      "\n",
      "val_loss: 0.6734, val_acc: 0.7395, batch: 46000. Saved.\n",
      "\n",
      " 48000/100000 [=============>................] - ETA: 6:43:11 - loss: 0.7452 - acc: 0.7403\n",
      "val_loss: 0.6730, val_acc: 0.7394, batch: 48000.\n",
      "\n",
      " 50000/100000 [==============>...............] - ETA: 6:27:40 - loss: 0.7422 - acc: 0.7407\n",
      "val_loss: 0.6728, val_acc: 0.7399, batch: 50000. Saved.\n",
      "\n",
      " 52000/100000 [==============>...............] - ETA: 6:12:10 - loss: 0.7395 - acc: 0.7408\n",
      "val_loss: 0.6725, val_acc: 0.7399, batch: 52000. Saved.\n",
      "\n",
      " 54000/100000 [===============>..............] - ETA: 5:56:40 - loss: 0.7369 - acc: 0.7403\n",
      "Epoch 54001: ReduceLROnPlateau reducing learning rate to 3.1622778678900043e-06.\n",
      "\n",
      "val_loss: 0.6725, val_acc: 0.7399, batch: 54000.\n",
      "\n",
      " 56000/100000 [===============>..............] - ETA: 5:41:10 - loss: 0.7346 - acc: 0.7399\n",
      "val_loss: 0.6724, val_acc: 0.7402, batch: 56000. Saved.\n",
      "\n",
      " 58000/100000 [================>.............] - ETA: 5:25:40 - loss: 0.7324 - acc: 0.7400\n",
      "Epoch 58001: ReduceLROnPlateau reducing learning rate to 1.0000000553323957e-06.\n",
      "\n",
      "val_loss: 0.6723, val_acc: 0.7400, batch: 58000.\n",
      "\n",
      " 60000/100000 [=================>............] - ETA: 5:10:09 - loss: 0.7304 - acc: 0.7408\n",
      "val_loss: 0.6723, val_acc: 0.7400, batch: 60000.\n",
      "\n",
      "\n",
      "Early stopping: acc did not improve. Before: 0.7407, afer: 0.7408, diff = 0.0001.\n",
      "\n",
      " 60001/100000 [=================>............] - ETA: 5:10:31 - loss: 0.7304 - acc: 0.7408"
     ]
    }
   ],
   "source": [
    "from models_utilities import ReduceLROnPlateau, EarlyStopping, CustomSaver\n",
    "\n",
    "early_stopper = EarlyStopping(monitor='acc',\n",
    "    batch_period=2000, patience=5)\n",
    "lr_reducer = ReduceLROnPlateau(monitor='acc', factor=np.sqrt(0.1), \n",
    "    patience=2, min_delta=4e-4, min_lr=1e-7, batch_period=2000)\n",
    "custom_saver = CustomSaver(validation, '5_5_uncorr_resnet', \n",
    "    batch_period=2000)\n",
    "callbacks = [lr_reducer, custom_saver, early_stopper]\n",
    "\n",
    "model.fit_generator(initial, epochs=1, workers=4,\n",
    "    use_multiprocessing=True, shuffle=True) \n",
    "\n",
    "h = model.fit_generator(training, epochs=1, \n",
    "    callbacks=callbacks, validation_data=validation, workers=4, \n",
    "    use_multiprocessing=True, shuffle=False)"
   ]
  },
  {
   "cell_type": "markdown",
   "metadata": {},
   "source": [
    "The evolution of the validation loss and accuracy is recorded in `custom_saver.history`."
   ]
  },
  {
   "cell_type": "code",
   "execution_count": 8,
   "metadata": {},
   "outputs": [
    {
     "data": {
      "text/plain": [
       "Text(0, 0.5, 'val_loss')"
      ]
     },
     "execution_count": 8,
     "metadata": {},
     "output_type": "execute_result"
    },
    {
     "data": {
      "image/png": "[encoded data removed]",
      "text/plain": [
       "<Figure size 432x288 with 2 Axes>"
      ]
     },
     "metadata": {
      "needs_background": "light"
     },
     "output_type": "display_data"
    }
   ],
   "source": [
    "from matplotlib import pyplot as plt\n",
    "x = custom_saver.history['batch']\n",
    "y1 = custom_saver.history['val_acc']\n",
    "y2 = custom_saver.history['val_loss']\n",
    "\n",
    "fig, ax1 = plt.subplots()\n",
    "\n",
    "ax2 = ax1.twinx()\n",
    "ax1.plot(x, y1, 'g-')\n",
    "ax2.plot(x, y2, 'b-')\n",
    "\n",
    "ax1.set_xlabel('steps')\n",
    "ax1.set_ylabel('val_acc', color='g')\n",
    "ax2.set_ylabel('val_loss', color='b')"
   ]
  }
 ],
 "metadata": {
  "kernelspec": {
   "display_name": "Python 3",
   "language": "python",
   "name": "python3"
  },
  "language_info": {
   "codemirror_mode": {
    "name": "ipython",
    "version": 3
   },
   "file_extension": ".py",
   "mimetype": "text/x-python",
   "name": "python",
   "nbconvert_exporter": "python",
   "pygments_lexer": "ipython3",
   "version": "3.6.10"
  }
 },
 "nbformat": 4,
 "nbformat_minor": 2
}
